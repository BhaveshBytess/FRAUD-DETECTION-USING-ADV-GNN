{
 "cells": [
  {
   "cell_type": "markdown",
   "id": "0a1b7494",
   "metadata": {},
   "source": [
    "# Stage 0: Elliptic++ EDA\n",
    "\n",
    "This notebook is for the initial exploration of the Elliptic++ dataset."
   ]
  },
  {
   "cell_type": "code",
   "execution_count": null,
   "id": "dc17be67",
   "metadata": {},
   "outputs": [],
   "source": [
    "# Basic libs\n",
    "!pip install -q numpy pandas scipy scikit-learn networkx matplotlib tqdm pyarrow pytest\n",
    "\n",
    "# PyTorch (choose CPU or CUDA matching runtime)\n",
    "!pip install -q torch torchvision torchaudio --index-url https://download.pytorch.org/whl/cpu\n",
    "\n",
    "# Install PyG - if CUDA present, install matching wheel from PyG instructions.\n",
    "# For many Colab runtimes, a simple pip works, otherwise consult PyG install helper\n",
    "!pip install -q torch-scatter torch-sparse torch-cluster torch-spline-conv torch-geometric\n",
    "\n",
    "# If PyG fails, fallback to DGL (dgl-cpu) or install specific CUDA wheels manually.\n",
    "# !pip install -q dgl"
   ]
  },
  {
   "cell_type": "markdown",
   "id": "fdbf731a",
   "metadata": {},
   "source": [
    "## Load the processed data"
   ]
  },
  {
   "cell_type": "code",
   "execution_count": null,
   "id": "8c57b998",
   "metadata": {},
   "outputs": [],
   "source": [
    "import torch\n",
    "# Make sure to upload the ellipticpp.pt file to your Colab environment\n",
    "data = torch.load('ellipticpp.pt')\n",
    "print(data)"
   ]
  },
  {
   "cell_type": "markdown",
   "id": "ed52aaba",
   "metadata": {},
   "source": [
    "## Basic EDA"
   ]
  },
  {
   "cell_type": "code",
   "execution_count": null,
   "id": "838eb770",
   "metadata": {},
   "outputs": [],
   "source": [
    "import matplotlib.pyplot as plt\n",
    "\n",
    "# Plot node degree distribution\n",
    "node_degrees = {}\n",
    "for node_type in data.node_types:\n",
    "    node_degrees[node_type] = data[node_type].num_nodes\n",
    "\n",
    "plt.bar(node_degrees.keys(), node_degrees.values())\n",
    "plt.title(\"Node Counts per Type\")\n",
    "plt.show()\n",
    "\n",
    "# Plot edge time distribution\n",
    "if hasattr(data, 'time'):\n",
    "    for edge_type in data.edge_types:\n",
    "        if hasattr(data[edge_type], 'time'):\n",
    "            plt.hist(data[edge_type].time.numpy(), bins=50)\n",
    "            plt.title(f\"Time Distribution for {edge_type}\")\n",
    "            plt.show()"
   ]
  },
  {
   "cell_type": "markdown",
   "id": "fbbd15bf",
   "metadata": {},
   "source": [
    "## Tiny GCN Forward Pass (Smoke Test)"
   ]
  },
  {
   "cell_type": "code",
   "execution_count": null,
   "id": "a18a19a8",
   "metadata": {},
   "outputs": [],
   "source": [
    "import torch\n",
    "import torch.nn.functional as F\n",
    "from torch_geometric.nn import GCNConv, HeteroConv\n",
    "\n",
    "class ToyGCN(torch.nn.Module):\n",
    "    def __init__(self, hidden_channels):\n",
    "        super().__init__()\n",
    "        self.conv1 = HeteroConv({\n",
    "            edge_type: GCNConv(-1, hidden_channels) for edge_type in data.edge_types\n",
    "        }, aggr='sum')\n",
    "\n",
    "    def forward(self, x_dict, edge_index_dict):\n",
    "        x = self.conv1(x_dict, edge_index_dict)\n",
    "        return x\n",
    "\n",
    "model = ToyGCN(hidden_channels=16)\n",
    "output = model(data.x_dict, data.edge_index_dict)\n",
    "print(\"Toy GCN output shape:\", {key: val.shape for key, val in output.items()})"
   ]
  }
 ],
 "metadata": {
  "language_info": {
   "name": "python"
  }
 },
 "nbformat": 4,
 "nbformat_minor": 5
}
