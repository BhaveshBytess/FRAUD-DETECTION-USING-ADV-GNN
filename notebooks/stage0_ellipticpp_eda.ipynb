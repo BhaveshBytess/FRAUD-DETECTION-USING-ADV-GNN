{
 "cells": [
  {
   "cell_type": "markdown",
   "id": "0a1b7494",
   "metadata": {},
   "source": [
    "# Stage 0: Elliptic++ EDA\n",
    "\n",
    "This notebook is for the initial exploration of the Elliptic++ dataset."
   ]
  },
  {
   "cell_type": "code",
   "execution_count": 3,
   "id": "4d46e185",
   "metadata": {},
   "outputs": [
    {
     "name": "stdout",
     "output_type": "stream",
     "text": [
      "Collecting numpy (from -r c:\\Users\\oumme\\OneDrive\\Desktop\\FRAUD DETECTION\\hhgtn-project\\requirements.txt (line 1))\n",
      "  Using cached numpy-2.3.2-cp313-cp313-win_amd64.whl.metadata (60 kB)\n",
      "Collecting pandas (from -r c:\\Users\\oumme\\OneDrive\\Desktop\\FRAUD DETECTION\\hhgtn-project\\requirements.txt (line 2))\n",
      "  Using cached pandas-2.3.2-cp313-cp313-win_amd64.whl.metadata (19 kB)\n",
      "Collecting scipy (from -r c:\\Users\\oumme\\OneDrive\\Desktop\\FRAUD DETECTION\\hhgtn-project\\requirements.txt (line 3))\n",
      "  Using cached scipy-1.16.1-cp313-cp313-win_amd64.whl.metadata (60 kB)\n",
      "Collecting scikit-learn (from -r c:\\Users\\oumme\\OneDrive\\Desktop\\FRAUD DETECTION\\hhgtn-project\\requirements.txt (line 4))\n",
      "  Using cached scikit_learn-1.7.1-cp313-cp313-win_amd64.whl.metadata (11 kB)\n",
      "Collecting torch (from -r c:\\Users\\oumme\\OneDrive\\Desktop\\FRAUD DETECTION\\hhgtn-project\\requirements.txt (line 5))\n",
      "  Using cached torch-2.8.0-cp313-cp313-win_amd64.whl.metadata (30 kB)\n",
      "Collecting torchvision (from -r c:\\Users\\oumme\\OneDrive\\Desktop\\FRAUD DETECTION\\hhgtn-project\\requirements.txt (line 6))\n",
      "  Using cached torchvision-0.23.0-cp313-cp313-win_amd64.whl.metadata (6.1 kB)\n",
      "Collecting tqdm (from -r c:\\Users\\oumme\\OneDrive\\Desktop\\FRAUD DETECTION\\hhgtn-project\\requirements.txt (line 7))\n",
      "  Using cached tqdm-4.67.1-py3-none-any.whl.metadata (57 kB)\n",
      "Collecting pyarrow (from -r c:\\Users\\oumme\\OneDrive\\Desktop\\FRAUD DETECTION\\hhgtn-project\\requirements.txt (line 8))\n",
      "  Using cached pyarrow-21.0.0-cp313-cp313-win_amd64.whl.metadata (3.4 kB)\n",
      "Collecting networkx (from -r c:\\Users\\oumme\\OneDrive\\Desktop\\FRAUD DETECTION\\hhgtn-project\\requirements.txt (line 9))\n",
      "  Using cached networkx-3.5-py3-none-any.whl.metadata (6.3 kB)\n",
      "Collecting matplotlib (from -r c:\\Users\\oumme\\OneDrive\\Desktop\\FRAUD DETECTION\\hhgtn-project\\requirements.txt (line 10))\n",
      "  Using cached matplotlib-3.10.6-cp313-cp313-win_amd64.whl.metadata (11 kB)\n",
      "Collecting pytest (from -r c:\\Users\\oumme\\OneDrive\\Desktop\\FRAUD DETECTION\\hhgtn-project\\requirements.txt (line 11))\n",
      "  Using cached pytest-8.4.2-py3-none-any.whl.metadata (7.7 kB)\n",
      "Collecting python-dotenv (from -r c:\\Users\\oumme\\OneDrive\\Desktop\\FRAUD DETECTION\\hhgtn-project\\requirements.txt (line 12))\n",
      "  Using cached python_dotenv-1.1.1-py3-none-any.whl.metadata (24 kB)\n",
      "Requirement already satisfied: python-dateutil>=2.8.2 in c:\\users\\oumme\\onedrive\\desktop\\fraud detection\\.venv\\lib\\site-packages (from pandas->-r c:\\Users\\oumme\\OneDrive\\Desktop\\FRAUD DETECTION\\hhgtn-project\\requirements.txt (line 2)) (2.9.0.post0)\n",
      "Collecting pytz>=2020.1 (from pandas->-r c:\\Users\\oumme\\OneDrive\\Desktop\\FRAUD DETECTION\\hhgtn-project\\requirements.txt (line 2))\n",
      "  Using cached pytz-2025.2-py2.py3-none-any.whl.metadata (22 kB)\n",
      "Collecting tzdata>=2022.7 (from pandas->-r c:\\Users\\oumme\\OneDrive\\Desktop\\FRAUD DETECTION\\hhgtn-project\\requirements.txt (line 2))\n",
      "  Using cached tzdata-2025.2-py2.py3-none-any.whl.metadata (1.4 kB)\n",
      "Collecting joblib>=1.2.0 (from scikit-learn->-r c:\\Users\\oumme\\OneDrive\\Desktop\\FRAUD DETECTION\\hhgtn-project\\requirements.txt (line 4))\n",
      "  Using cached joblib-1.5.2-py3-none-any.whl.metadata (5.6 kB)\n",
      "Collecting threadpoolctl>=3.1.0 (from scikit-learn->-r c:\\Users\\oumme\\OneDrive\\Desktop\\FRAUD DETECTION\\hhgtn-project\\requirements.txt (line 4))\n",
      "  Using cached threadpoolctl-3.6.0-py3-none-any.whl.metadata (13 kB)\n",
      "Collecting filelock (from torch->-r c:\\Users\\oumme\\OneDrive\\Desktop\\FRAUD DETECTION\\hhgtn-project\\requirements.txt (line 5))\n",
      "  Using cached filelock-3.19.1-py3-none-any.whl.metadata (2.1 kB)\n",
      "Collecting typing-extensions>=4.10.0 (from torch->-r c:\\Users\\oumme\\OneDrive\\Desktop\\FRAUD DETECTION\\hhgtn-project\\requirements.txt (line 5))\n",
      "  Using cached typing_extensions-4.15.0-py3-none-any.whl.metadata (3.3 kB)\n",
      "Collecting sympy>=1.13.3 (from torch->-r c:\\Users\\oumme\\OneDrive\\Desktop\\FRAUD DETECTION\\hhgtn-project\\requirements.txt (line 5))\n",
      "  Using cached sympy-1.14.0-py3-none-any.whl.metadata (12 kB)\n",
      "Collecting jinja2 (from torch->-r c:\\Users\\oumme\\OneDrive\\Desktop\\FRAUD DETECTION\\hhgtn-project\\requirements.txt (line 5))\n",
      "  Using cached jinja2-3.1.6-py3-none-any.whl.metadata (2.9 kB)\n",
      "Collecting fsspec (from torch->-r c:\\Users\\oumme\\OneDrive\\Desktop\\FRAUD DETECTION\\hhgtn-project\\requirements.txt (line 5))\n",
      "  Using cached fsspec-2025.9.0-py3-none-any.whl.metadata (10 kB)\n",
      "Collecting setuptools (from torch->-r c:\\Users\\oumme\\OneDrive\\Desktop\\FRAUD DETECTION\\hhgtn-project\\requirements.txt (line 5))\n",
      "  Using cached setuptools-80.9.0-py3-none-any.whl.metadata (6.6 kB)\n",
      "Collecting pillow!=8.3.*,>=5.3.0 (from torchvision->-r c:\\Users\\oumme\\OneDrive\\Desktop\\FRAUD DETECTION\\hhgtn-project\\requirements.txt (line 6))\n",
      "  Using cached pillow-11.3.0-cp313-cp313-win_amd64.whl.metadata (9.2 kB)\n",
      "Requirement already satisfied: colorama in c:\\users\\oumme\\onedrive\\desktop\\fraud detection\\.venv\\lib\\site-packages (from tqdm->-r c:\\Users\\oumme\\OneDrive\\Desktop\\FRAUD DETECTION\\hhgtn-project\\requirements.txt (line 7)) (0.4.6)\n",
      "Collecting contourpy>=1.0.1 (from matplotlib->-r c:\\Users\\oumme\\OneDrive\\Desktop\\FRAUD DETECTION\\hhgtn-project\\requirements.txt (line 10))\n",
      "  Using cached contourpy-1.3.3-cp313-cp313-win_amd64.whl.metadata (5.5 kB)\n",
      "Collecting cycler>=0.10 (from matplotlib->-r c:\\Users\\oumme\\OneDrive\\Desktop\\FRAUD DETECTION\\hhgtn-project\\requirements.txt (line 10))\n",
      "  Using cached cycler-0.12.1-py3-none-any.whl.metadata (3.8 kB)\n",
      "Collecting fonttools>=4.22.0 (from matplotlib->-r c:\\Users\\oumme\\OneDrive\\Desktop\\FRAUD DETECTION\\hhgtn-project\\requirements.txt (line 10))\n",
      "  Using cached fonttools-4.59.2-cp313-cp313-win_amd64.whl.metadata (111 kB)\n",
      "Collecting kiwisolver>=1.3.1 (from matplotlib->-r c:\\Users\\oumme\\OneDrive\\Desktop\\FRAUD DETECTION\\hhgtn-project\\requirements.txt (line 10))\n",
      "  Using cached kiwisolver-1.4.9-cp313-cp313-win_amd64.whl.metadata (6.4 kB)\n",
      "Requirement already satisfied: packaging>=20.0 in c:\\users\\oumme\\onedrive\\desktop\\fraud detection\\.venv\\lib\\site-packages (from matplotlib->-r c:\\Users\\oumme\\OneDrive\\Desktop\\FRAUD DETECTION\\hhgtn-project\\requirements.txt (line 10)) (25.0)\n",
      "Collecting pyparsing>=2.3.1 (from matplotlib->-r c:\\Users\\oumme\\OneDrive\\Desktop\\FRAUD DETECTION\\hhgtn-project\\requirements.txt (line 10))\n",
      "  Using cached pyparsing-3.2.3-py3-none-any.whl.metadata (5.0 kB)\n",
      "Collecting iniconfig>=1 (from pytest->-r c:\\Users\\oumme\\OneDrive\\Desktop\\FRAUD DETECTION\\hhgtn-project\\requirements.txt (line 11))\n",
      "  Using cached iniconfig-2.1.0-py3-none-any.whl.metadata (2.7 kB)\n",
      "Collecting pluggy<2,>=1.5 (from pytest->-r c:\\Users\\oumme\\OneDrive\\Desktop\\FRAUD DETECTION\\hhgtn-project\\requirements.txt (line 11))\n",
      "  Using cached pluggy-1.6.0-py3-none-any.whl.metadata (4.8 kB)\n",
      "Requirement already satisfied: pygments>=2.7.2 in c:\\users\\oumme\\onedrive\\desktop\\fraud detection\\.venv\\lib\\site-packages (from pytest->-r c:\\Users\\oumme\\OneDrive\\Desktop\\FRAUD DETECTION\\hhgtn-project\\requirements.txt (line 11)) (2.19.2)\n",
      "Requirement already satisfied: six>=1.5 in c:\\users\\oumme\\onedrive\\desktop\\fraud detection\\.venv\\lib\\site-packages (from python-dateutil>=2.8.2->pandas->-r c:\\Users\\oumme\\OneDrive\\Desktop\\FRAUD DETECTION\\hhgtn-project\\requirements.txt (line 2)) (1.17.0)\n",
      "Collecting mpmath<1.4,>=1.1.0 (from sympy>=1.13.3->torch->-r c:\\Users\\oumme\\OneDrive\\Desktop\\FRAUD DETECTION\\hhgtn-project\\requirements.txt (line 5))\n",
      "  Using cached mpmath-1.3.0-py3-none-any.whl.metadata (8.6 kB)\n",
      "Collecting MarkupSafe>=2.0 (from jinja2->torch->-r c:\\Users\\oumme\\OneDrive\\Desktop\\FRAUD DETECTION\\hhgtn-project\\requirements.txt (line 5))\n",
      "  Using cached MarkupSafe-3.0.2-cp313-cp313-win_amd64.whl.metadata (4.1 kB)\n",
      "Using cached numpy-2.3.2-cp313-cp313-win_amd64.whl (12.8 MB)\n",
      "Using cached pandas-2.3.2-cp313-cp313-win_amd64.whl (11.0 MB)\n",
      "Using cached scipy-1.16.1-cp313-cp313-win_amd64.whl (38.5 MB)\n",
      "Using cached scikit_learn-1.7.1-cp313-cp313-win_amd64.whl (8.7 MB)\n",
      "Using cached torch-2.8.0-cp313-cp313-win_amd64.whl (241.3 MB)\n",
      "Using cached torchvision-0.23.0-cp313-cp313-win_amd64.whl (1.6 MB)\n",
      "Using cached tqdm-4.67.1-py3-none-any.whl (78 kB)\n",
      "Using cached pyarrow-21.0.0-cp313-cp313-win_amd64.whl (26.1 MB)\n",
      "Using cached networkx-3.5-py3-none-any.whl (2.0 MB)\n",
      "Using cached matplotlib-3.10.6-cp313-cp313-win_amd64.whl (8.1 MB)\n",
      "Using cached pytest-8.4.2-py3-none-any.whl (365 kB)\n",
      "Using cached python_dotenv-1.1.1-py3-none-any.whl (20 kB)\n",
      "Using cached contourpy-1.3.3-cp313-cp313-win_amd64.whl (226 kB)\n",
      "Using cached cycler-0.12.1-py3-none-any.whl (8.3 kB)\n",
      "Using cached fonttools-4.59.2-cp313-cp313-win_amd64.whl (2.3 MB)\n",
      "Using cached iniconfig-2.1.0-py3-none-any.whl (6.0 kB)\n",
      "Using cached joblib-1.5.2-py3-none-any.whl (308 kB)\n",
      "Using cached kiwisolver-1.4.9-cp313-cp313-win_amd64.whl (73 kB)\n",
      "Using cached pillow-11.3.0-cp313-cp313-win_amd64.whl (7.0 MB)\n",
      "Using cached pluggy-1.6.0-py3-none-any.whl (20 kB)\n",
      "Using cached pyparsing-3.2.3-py3-none-any.whl (111 kB)\n",
      "Using cached pytz-2025.2-py2.py3-none-any.whl (509 kB)\n",
      "Using cached sympy-1.14.0-py3-none-any.whl (6.3 MB)\n",
      "Using cached threadpoolctl-3.6.0-py3-none-any.whl (18 kB)\n",
      "Using cached typing_extensions-4.15.0-py3-none-any.whl (44 kB)\n",
      "Using cached tzdata-2025.2-py2.py3-none-any.whl (347 kB)\n",
      "Using cached filelock-3.19.1-py3-none-any.whl (15 kB)\n",
      "Using cached fsspec-2025.9.0-py3-none-any.whl (199 kB)\n",
      "Using cached jinja2-3.1.6-py3-none-any.whl (134 kB)\n",
      "Using cached setuptools-80.9.0-py3-none-any.whl (1.2 MB)\n",
      "Using cached MarkupSafe-3.0.2-cp313-cp313-win_amd64.whl (15 kB)\n",
      "Using cached mpmath-1.3.0-py3-none-any.whl (536 kB)\n",
      "Installing collected packages: pytz, mpmath, tzdata, typing-extensions, tqdm, threadpoolctl, sympy, setuptools, python-dotenv, pyparsing, pyarrow, pluggy, pillow, numpy, networkx, MarkupSafe, kiwisolver, joblib, iniconfig, fsspec, fonttools, filelock, cycler, scipy, pytest, pandas, jinja2, contourpy, torch, scikit-learn, matplotlib, torchvision\n",
      "Successfully installed MarkupSafe-3.0.2 contourpy-1.3.3 cycler-0.12.1 filelock-3.19.1 fonttools-4.59.2 fsspec-2025.9.0 iniconfig-2.1.0 jinja2-3.1.6 joblib-1.5.2 kiwisolver-1.4.9 matplotlib-3.10.6 mpmath-1.3.0 networkx-3.5 numpy-2.3.2 pandas-2.3.2 pillow-11.3.0 pluggy-1.6.0 pyarrow-21.0.0 pyparsing-3.2.3 pytest-8.4.2 python-dotenv-1.1.1 pytz-2025.2 scikit-learn-1.7.1 scipy-1.16.1 setuptools-80.9.0 sympy-1.14.0 threadpoolctl-3.6.0 torch-2.8.0 torchvision-0.23.0 tqdm-4.67.1 typing-extensions-4.15.0 tzdata-2025.2\n"
     ]
    },
    {
     "name": "stderr",
     "output_type": "stream",
     "text": [
      "\n",
      "[notice] A new release of pip is available: 24.3.1 -> 25.2\n",
      "[notice] To update, run: python.exe -m pip install --upgrade pip\n"
     ]
    },
    {
     "name": "stdout",
     "output_type": "stream",
     "text": [
      "Looking in links: https://data.pyg.org/whl/torch-2.8.0+cpu.html\n",
      "Collecting torch-scatter\n",
      "  Using cached https://data.pyg.org/whl/torch-2.8.0%2Bcpu/torch_scatter-2.1.2%2Bpt28cpu-cp313-cp313-win_amd64.whl (425 kB)\n",
      "Collecting torch-sparse\n",
      "  Using cached https://data.pyg.org/whl/torch-2.8.0%2Bcpu/torch_sparse-0.6.18%2Bpt28cpu-cp313-cp313-win_amd64.whl (769 kB)\n",
      "Collecting torch-cluster\n",
      "  Using cached https://data.pyg.org/whl/torch-2.8.0%2Bcpu/torch_cluster-1.6.3%2Bpt28cpu-cp313-cp313-win_amd64.whl (525 kB)\n",
      "Collecting torch-spline-conv\n",
      "  Using cached https://data.pyg.org/whl/torch-2.8.0%2Bcpu/torch_spline_conv-1.2.2%2Bpt28cpu-cp313-cp313-win_amd64.whl (235 kB)\n",
      "Collecting torch-geometric\n",
      "  Using cached torch_geometric-2.6.1-py3-none-any.whl.metadata (63 kB)\n",
      "Requirement already satisfied: scipy in c:\\users\\oumme\\onedrive\\desktop\\fraud detection\\.venv\\lib\\site-packages (from torch-sparse) (1.16.1)\n",
      "Collecting aiohttp (from torch-geometric)\n",
      "  Using cached aiohttp-3.12.15-cp313-cp313-win_amd64.whl.metadata (7.9 kB)\n",
      "Requirement already satisfied: fsspec in c:\\users\\oumme\\onedrive\\desktop\\fraud detection\\.venv\\lib\\site-packages (from torch-geometric) (2025.9.0)\n",
      "Requirement already satisfied: jinja2 in c:\\users\\oumme\\onedrive\\desktop\\fraud detection\\.venv\\lib\\site-packages (from torch-geometric) (3.1.6)\n",
      "Requirement already satisfied: numpy in c:\\users\\oumme\\onedrive\\desktop\\fraud detection\\.venv\\lib\\site-packages (from torch-geometric) (2.3.2)\n",
      "Requirement already satisfied: psutil>=5.8.0 in c:\\users\\oumme\\onedrive\\desktop\\fraud detection\\.venv\\lib\\site-packages (from torch-geometric) (7.0.0)\n",
      "Requirement already satisfied: pyparsing in c:\\users\\oumme\\onedrive\\desktop\\fraud detection\\.venv\\lib\\site-packages (from torch-geometric) (3.2.3)\n",
      "Collecting requests (from torch-geometric)\n",
      "  Using cached requests-2.32.5-py3-none-any.whl.metadata (4.9 kB)\n",
      "Requirement already satisfied: tqdm in c:\\users\\oumme\\onedrive\\desktop\\fraud detection\\.venv\\lib\\site-packages (from torch-geometric) (4.67.1)\n",
      "Collecting aiohappyeyeballs>=2.5.0 (from aiohttp->torch-geometric)\n",
      "  Using cached aiohappyeyeballs-2.6.1-py3-none-any.whl.metadata (5.9 kB)\n",
      "Collecting aiosignal>=1.4.0 (from aiohttp->torch-geometric)\n",
      "  Using cached aiosignal-1.4.0-py3-none-any.whl.metadata (3.7 kB)\n",
      "Collecting attrs>=17.3.0 (from aiohttp->torch-geometric)\n",
      "  Using cached attrs-25.3.0-py3-none-any.whl.metadata (10 kB)\n",
      "Collecting frozenlist>=1.1.1 (from aiohttp->torch-geometric)\n",
      "  Using cached frozenlist-1.7.0-cp313-cp313-win_amd64.whl.metadata (19 kB)\n",
      "Collecting multidict<7.0,>=4.5 (from aiohttp->torch-geometric)\n",
      "  Using cached multidict-6.6.4-cp313-cp313-win_amd64.whl.metadata (5.4 kB)\n",
      "Collecting propcache>=0.2.0 (from aiohttp->torch-geometric)\n",
      "  Using cached propcache-0.3.2-cp313-cp313-win_amd64.whl.metadata (12 kB)\n",
      "Collecting yarl<2.0,>=1.17.0 (from aiohttp->torch-geometric)\n",
      "  Using cached yarl-1.20.1-cp313-cp313-win_amd64.whl.metadata (76 kB)\n",
      "Requirement already satisfied: MarkupSafe>=2.0 in c:\\users\\oumme\\onedrive\\desktop\\fraud detection\\.venv\\lib\\site-packages (from jinja2->torch-geometric) (3.0.2)\n",
      "Collecting charset_normalizer<4,>=2 (from requests->torch-geometric)\n",
      "  Using cached charset_normalizer-3.4.3-cp313-cp313-win_amd64.whl.metadata (37 kB)\n",
      "Collecting idna<4,>=2.5 (from requests->torch-geometric)\n",
      "  Using cached idna-3.10-py3-none-any.whl.metadata (10 kB)\n",
      "Collecting urllib3<3,>=1.21.1 (from requests->torch-geometric)\n",
      "  Using cached urllib3-2.5.0-py3-none-any.whl.metadata (6.5 kB)\n",
      "Collecting certifi>=2017.4.17 (from requests->torch-geometric)\n",
      "  Using cached certifi-2025.8.3-py3-none-any.whl.metadata (2.4 kB)\n",
      "Requirement already satisfied: colorama in c:\\users\\oumme\\onedrive\\desktop\\fraud detection\\.venv\\lib\\site-packages (from tqdm->torch-geometric) (0.4.6)\n",
      "Using cached torch_geometric-2.6.1-py3-none-any.whl (1.1 MB)\n",
      "Using cached aiohttp-3.12.15-cp313-cp313-win_amd64.whl (449 kB)\n",
      "Using cached requests-2.32.5-py3-none-any.whl (64 kB)\n",
      "Using cached aiohappyeyeballs-2.6.1-py3-none-any.whl (15 kB)\n",
      "Using cached aiosignal-1.4.0-py3-none-any.whl (7.5 kB)\n",
      "Using cached attrs-25.3.0-py3-none-any.whl (63 kB)\n",
      "Using cached certifi-2025.8.3-py3-none-any.whl (161 kB)\n",
      "Using cached charset_normalizer-3.4.3-cp313-cp313-win_amd64.whl (107 kB)\n",
      "Using cached frozenlist-1.7.0-cp313-cp313-win_amd64.whl (43 kB)\n",
      "Using cached idna-3.10-py3-none-any.whl (70 kB)\n",
      "Using cached multidict-6.6.4-cp313-cp313-win_amd64.whl (45 kB)\n",
      "Using cached propcache-0.3.2-cp313-cp313-win_amd64.whl (40 kB)\n",
      "Using cached urllib3-2.5.0-py3-none-any.whl (129 kB)\n",
      "Using cached yarl-1.20.1-cp313-cp313-win_amd64.whl (86 kB)\n",
      "Installing collected packages: urllib3, torch-spline-conv, torch-scatter, propcache, multidict, idna, frozenlist, charset_normalizer, certifi, attrs, aiohappyeyeballs, yarl, torch-sparse, torch-cluster, requests, aiosignal, aiohttp, torch-geometric\n",
      "Successfully installed aiohappyeyeballs-2.6.1 aiohttp-3.12.15 aiosignal-1.4.0 attrs-25.3.0 certifi-2025.8.3 charset_normalizer-3.4.3 frozenlist-1.7.0 idna-3.10 multidict-6.6.4 propcache-0.3.2 requests-2.32.5 torch-cluster-1.6.3+pt28cpu torch-geometric-2.6.1 torch-scatter-2.1.2+pt28cpu torch-sparse-0.6.18+pt28cpu torch-spline-conv-1.2.2+pt28cpu urllib3-2.5.0 yarl-1.20.1\n"
     ]
    },
    {
     "name": "stderr",
     "output_type": "stream",
     "text": [
      "\n",
      "[notice] A new release of pip is available: 24.3.1 -> 25.2\n",
      "[notice] To update, run: python.exe -m pip install --upgrade pip\n"
     ]
    }
   ],
   "source": [
    "import sys\n",
    "import os\n",
    "\n",
    "# Correctly quote the path to the executable\n",
    "executable = f'\"{sys.executable}\"'\n",
    "\n",
    "# Get the absolute path to requirements.txt, which is in the parent directory\n",
    "requirements_path = os.path.abspath(os.path.join(os.path.dirname(\"__file__\"), '..', 'requirements.txt'))\n",
    "\n",
    "# Install main requirements\n",
    "!{executable} -m pip install -r \"{requirements_path}\"\n",
    "\n",
    "# Install PyG requirements\n",
    "!{executable} -m pip install torch-scatter torch-sparse torch-cluster torch-spline-conv torch-geometric -f https://data.pyg.org/whl/torch-2.8.0+cpu.html"
   ]
  },
  {
   "cell_type": "markdown",
   "id": "fdbf731a",
   "metadata": {},
   "source": [
    "## Load the processed data"
   ]
  },
  {
   "cell_type": "code",
   "execution_count": 6,
   "id": "8c57b998",
   "metadata": {},
   "outputs": [
    {
     "name": "stdout",
     "output_type": "stream",
     "text": [
      "HeteroData(\n",
      "  transaction={\n",
      "    num_nodes=2,\n",
      "    x=[2, 1],\n",
      "  },\n",
      "  (transaction, transaction->transaction, transaction)={ edge_index=[2, 1] }\n",
      ")\n"
     ]
    }
   ],
   "source": [
    "import torch\n",
    "# Make sure to upload the ellipticpp.pt file to your Colab environment\n",
    "data = torch.load('../data/ellipticpp.pt', weights_only=False)\n",
    "print(data)"
   ]
  },
  {
   "cell_type": "markdown",
   "id": "ed52aaba",
   "metadata": {},
   "source": [
    "## Basic EDA"
   ]
  },
  {
   "cell_type": "code",
   "execution_count": 7,
   "id": "838eb770",
   "metadata": {},
   "outputs": [
    {
     "data": {
      "image/png": "[encoded data removed]",
      "text/plain": [
       "<Figure size 640x480 with 1 Axes>"
      ]
     },
     "metadata": {},
     "output_type": "display_data"
    }
   ],
   "source": [
    "import matplotlib.pyplot as plt\n",
    "\n",
    "# Plot node degree distribution\n",
    "node_degrees = {}\n",
    "for node_type in data.node_types:\n",
    "    node_degrees[node_type] = data[node_type].num_nodes\n",
    "\n",
    "plt.bar(node_degrees.keys(), node_degrees.values())\n",
    "plt.title(\"Node Counts per Type\")\n",
    "plt.show()\n",
    "\n",
    "# Plot edge time distribution\n",
    "if hasattr(data, 'time'):\n",
    "    for edge_type in data.edge_types:\n",
    "        if hasattr(data[edge_type], 'time'):\n",
    "            plt.hist(data[edge_type].time.numpy(), bins=50)\n",
    "            plt.title(f\"Time Distribution for {edge_type}\")\n",
    "            plt.show()"
   ]
  },
  {
   "cell_type": "markdown",
   "id": "fbbd15bf",
   "metadata": {},
   "source": [
    "## Tiny GCN Forward Pass (Smoke Test)"
   ]
  },
  {
   "cell_type": "code",
   "execution_count": 8,
   "id": "a18a19a8",
   "metadata": {},
   "outputs": [
    {
     "name": "stdout",
     "output_type": "stream",
     "text": [
      "Toy GCN output shape: {'transaction': torch.Size([2, 16])}\n"
     ]
    }
   ],
   "source": [
    "import torch\n",
    "import torch.nn.functional as F\n",
    "from torch_geometric.nn import GCNConv, HeteroConv\n",
    "\n",
    "class ToyGCN(torch.nn.Module):\n",
    "    def __init__(self, hidden_channels):\n",
    "        super().__init__()\n",
    "        self.conv1 = HeteroConv({\n",
    "            edge_type: GCNConv(-1, hidden_channels) for edge_type in data.edge_types\n",
    "        }, aggr='sum')\n",
    "\n",
    "    def forward(self, x_dict, edge_index_dict):\n",
    "        x = self.conv1(x_dict, edge_index_dict)\n",
    "        return x\n",
    "\n",
    "model = ToyGCN(hidden_channels=16)\n",
    "output = model(data.x_dict, data.edge_index_dict)\n",
    "print(\"Toy GCN output shape:\", {key: val.shape for key, val in output.items()})"
   ]
  }
 ],
 "metadata": {
  "kernelspec": {
   "display_name": ".venv",
   "language": "python",
   "name": "python3"
  },
  "language_info": {
   "codemirror_mode": {
    "name": "ipython",
    "version": 3
   },
   "file_extension": ".py",
   "mimetype": "text/x-python",
   "name": "python",
   "nbconvert_exporter": "python",
   "pygments_lexer": "ipython3",
   "version": "3.13.1"
  }
 },
 "nbformat": 4,
 "nbformat_minor": 5
}
