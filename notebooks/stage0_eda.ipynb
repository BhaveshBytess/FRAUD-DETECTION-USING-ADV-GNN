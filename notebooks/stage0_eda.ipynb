{
 "cells": [
  {
   "cell_type": "markdown",
   "id": "24bc0aa0",
   "metadata": {},
   "source": [
    "# Stage 0: EDA and Data Loading\n",
    "\n",
    "This notebook covers the initial setup, data loading, and basic exploratory data analysis for the project."
   ]
  },
  {
   "cell_type": "code",
   "execution_count": null,
   "id": "1c9a0d23",
   "metadata": {},
   "outputs": [],
   "source": [
    "# Colab: GPU runtime recommended. Run these cells to prepare environment.\n",
    "# 1) Basic python libs\n",
    "!pip install -q numpy pandas scipy scikit-learn networkx matplotlib tqdm pyarrow pytest\n",
    "\n",
    "# 2) Install PyTorch (choose appropriate CUDA) - Colab usually has CUDA 11.8 or similar\n",
    "# CPU fallback:\n",
    "!pip install -q torch torchvision torchaudio --index-url https://download.pytorch.org/whl/cpu\n",
    "\n",
    "# 3) Install PyG (this is the simple approach — adjust if CUDA available)\n",
    "!pip install -q torch-scatter torch-sparse torch-cluster torch-spline-conv torch-geometric\n",
    "\n",
    "# If the above PyG install fails, use PyG official install instructions and pick matching CUDA wheel."
   ]
  },
  {
   "cell_type": "markdown",
   "id": "5432213d",
   "metadata": {},
   "source": [
    "## Load Sample Data"
   ]
  },
  {
   "cell_type": "code",
   "execution_count": null,
   "id": "2e054621",
   "metadata": {},
   "outputs": [],
   "source": [
    "import sys\n",
    "import os\n",
    "# Add src to path\n",
    "sys.path.append('../')\n",
    "\n",
    "from src.data_utils import load_csv_nodes_edges, build_hetero_data\n",
    "\n",
    "nodes_csv = '../data/sample/nodes.csv'\n",
    "edges_csv = '../data/sample/edges.csv'\n",
    "\n",
    "nodes, edges = load_csv_nodes_edges(nodes_csv, edges_csv)\n",
    "data = build_hetero_data(nodes, edges)\n",
    "\n",
    "print(\"HeteroData created:\")\n",
    "for key in data.metadata():\n",
    "    print(key)"
   ]
  },
  {
   "cell_type": "markdown",
   "id": "6abe84ae",
   "metadata": {},
   "source": [
    "## Basic EDA"
   ]
  },
  {
   "cell_type": "code",
   "execution_count": null,
   "id": "569f55dd",
   "metadata": {},
   "outputs": [],
   "source": [
    "import matplotlib.pyplot as plt\n",
    "\n",
    "# Plot node degree distribution\n",
    "node_degrees = {}\n",
    "for node_type in data.node_types:\n",
    "    node_degrees[node_type] = data[node_type].num_nodes\n",
    "\n",
    "plt.bar(node_degrees.keys(), node_degrees.values())\n",
    "plt.title(\"Node Counts per Type\")\n",
    "plt.show()\n",
    "\n",
    "# Plot edge time distribution\n",
    "for edge_type in data.edge_types:\n",
    "    plt.hist(data[edge_type].time.numpy(), bins=50)\n",
    "    plt.title(f\"Time Distribution for {edge_type}\")\n",
    "    plt.show()"
   ]
  },
  {
   "cell_type": "markdown",
   "id": "56ebd009",
   "metadata": {},
   "source": [
    "## Tiny GCN Forward Pass (Smoke Test)"
   ]
  },
  {
   "cell_type": "code",
   "execution_count": null,
   "id": "7c352461",
   "metadata": {},
   "outputs": [],
   "source": [
    "import torch\n",
    "import torch.nn.functional as F\n",
    "from torch_geometric.nn import GCNConv, HeteroConv\n",
    "\n",
    "class ToyGCN(torch.nn.Module):\n",
    "    def __init__(self, hidden_channels):\n",
    "        super().__init__()\n",
    "        self.conv1 = HeteroConv({\n",
    "            ('user', 'user->merchant', 'merchant'): GCNConv(-1, hidden_channels),\n",
    "        }, aggr='sum')\n",
    "\n",
    "    def forward(self, x_dict, edge_index_dict):\n",
    "        x = self.conv1(x_dict, edge_index_dict)\n",
    "        return x\n",
    "\n",
    "model = ToyGCN(hidden_channels=16)\n",
    "output = model(data.x_dict, data.edge_index_dict)\n",
    "print(\"Toy GCN output shape:\", {key: val.shape for key, val in output.items()})"
   ]
  }
 ],
 "metadata": {
  "language_info": {
   "name": "python"
  }
 },
 "nbformat": 4,
 "nbformat_minor": 5
}
