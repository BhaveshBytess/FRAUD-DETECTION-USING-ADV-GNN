{
 "cells": [
  {
   "cell_type": "markdown",
   "id": "c603d34b",
   "metadata": {},
   "source": [
    "# Stage 1: Baseline Models\n",
    "\n",
    "This notebook is for training and evaluating baseline models on the Elliptic++ dataset."
   ]
  },
  {
   "cell_type": "code",
   "execution_count": null,
   "id": "bb44bc55",
   "metadata": {},
   "outputs": [],
   "source": [
    "# Install dependencies\n",
    "# Note: This assumes you are in a Colab/Kaggle environment.\n",
    "# For local execution, it's better to use the requirements.txt file.\n",
    "import sys\n",
    "!{sys.executable} -m pip install -q numpy pandas torch torchvision scikit-learn pyyaml\n",
    "!{sys.executable} -m pip install torch-scatter torch-sparse torch-cluster torch-spline-conv torch-geometric -f https://data.pyg.org/whl/torch-2.8.0+cpu.html"
   ]
  },
  {
   "cell_type": "markdown",
   "id": "e601f2b5",
   "metadata": {},
   "source": [
    "## Prepare Data\n",
    "\n",
    "First, ensure your `ellipticpp.pt` file is accessible. If you are in Colab, you might need to upload it or mount your Google Drive."
   ]
  },
  {
   "cell_type": "code",
   "execution_count": null,
   "id": "b3365b3b",
   "metadata": {},
   "outputs": [],
   "source": [
    "# We assume the data is in the parent `data` directory\n",
    "# If not, you may need to adjust the path.\n",
    "# For example, in Colab, you might have it at '/content/ellipticpp.pt'\n",
    "DATA_PATH = '../data/ellipticpp.pt'"
   ]
  },
  {
   "cell_type": "markdown",
   "id": "bb6bb7e8",
   "metadata": {},
   "source": [
    "## Run Baseline Training (Lite Mode)\n",
    "\n",
    "Here, we'll run the training script with a small sample of the data to quickly verify that everything works."
   ]
  },
  {
   "cell_type": "code",
   "execution_count": 1,
   "id": "6982b531",
   "metadata": {},
   "outputs": [
    {
     "name": "stderr",
     "output_type": "stream",
     "text": [
      "Traceback (most recent call last):\n",
      "  File \"c:\\Users\\oumme\\OneDrive\\Desktop\\FRAUD DETECTION\\hhgtn-project\\src\\train_baseline.py\", line 6, in <module>\n",
      "    from src.data_utils import build_hetero_data\n",
      "ModuleNotFoundError: No module named 'src'\n"
     ]
    }
   ],
   "source": [
    "# Run the training script from the parent directory\n",
    "# We need to change the working directory to the project root\n",
    "import os\n",
    "if os.path.basename(os.getcwd()) == 'notebooks':\n",
    "    os.chdir('..')\n",
    "\n",
    "!python src/train_baseline.py --config configs/baseline.yaml"
   ]
  },
  {
   "cell_type": "markdown",
   "id": "1771bc6e",
   "metadata": {},
   "source": [
    "## Evaluate the Trained Model"
   ]
  },
  {
   "cell_type": "code",
   "execution_count": null,
   "id": "6559848e",
   "metadata": {},
   "outputs": [],
   "source": [
    "!python src/eval.py --ckpt experiments/baseline/lite/ckpt.pth --data_path {DATA_PATH}"
   ]
  },
  {
   "cell_type": "markdown",
   "id": "8432fa9f",
   "metadata": {},
   "source": [
    "## Check the Results"
   ]
  },
  {
   "cell_type": "code",
   "execution_count": null,
   "id": "05e3ee06",
   "metadata": {},
   "outputs": [],
   "source": [
    "import json\n",
    "\n",
    "try:\n",
    "    with open('experiments/baseline/lite/metrics.json', 'r') as f:\n",
    "        metrics = json.load(f)\n",
    "    print(\"Metrics from training run:\")\n",
    "    print(json.dumps(metrics, indent=4))\n",
    "except FileNotFoundError:\n",
    "    print(\"metrics.json not found. Did the training script run successfully?\")"
   ]
  }
 ],
 "metadata": {
  "kernelspec": {
   "display_name": ".venv",
   "language": "python",
   "name": "python3"
  },
  "language_info": {
   "codemirror_mode": {
    "name": "ipython",
    "version": 3
   },
   "file_extension": ".py",
   "mimetype": "text/x-python",
   "name": "python",
   "nbconvert_exporter": "python",
   "pygments_lexer": "ipython3",
   "version": "3.13.1"
  }
 },
 "nbformat": 4,
 "nbformat_minor": 5
}
